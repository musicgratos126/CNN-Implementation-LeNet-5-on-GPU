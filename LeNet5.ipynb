{
 "cells": [
  {
   "metadata": {
    "ExecuteTime": {
     "end_time": "2024-12-29T19:52:49.040934Z",
     "start_time": "2024-12-29T19:52:49.033532Z"
    }
   },
   "cell_type": "code",
   "source": [
    "import tensorflow as tf\n",
    "from tensorflow import keras\n",
    "import numpy as np\n",
    "from matplotlib import pyplot\n",
    "from keras.models import model_from_json"
   ],
   "id": "abf58910c745b600",
   "outputs": [],
   "execution_count": 65
  },
  {
   "cell_type": "code",
   "id": "93d3031b-4533-4aec-a39f-02e28c2e70a7",
   "metadata": {
    "ExecuteTime": {
     "end_time": "2024-12-29T19:52:49.230746Z",
     "start_time": "2024-12-29T19:52:49.043790Z"
    }
   },
   "source": [
    "(train_x, train_y), (test_x, test_y) = keras.datasets.mnist.load_data()\n",
    "train_x = train_x / 255.0\n",
    "test_x = test_x / 255.0\n",
    "train_x.shape"
   ],
   "outputs": [
    {
     "data": {
      "text/plain": [
       "(60000, 28, 28)"
      ]
     },
     "execution_count": 66,
     "metadata": {},
     "output_type": "execute_result"
    }
   ],
   "execution_count": 66
  },
  {
   "cell_type": "code",
   "id": "f25fabb6-19d5-49a4-9598-085544a8aab2",
   "metadata": {
    "ExecuteTime": {
     "end_time": "2024-12-29T19:52:49.248861Z",
     "start_time": "2024-12-29T19:52:49.231585Z"
    }
   },
   "source": [
    "train_x = tf.expand_dims(train_x, 3)\n",
    "test_x = tf.expand_dims(test_x, 3)\n",
    "val_x = train_x[:5000]\n",
    "val_y = train_y[:5000]\n",
    "train_x.shape"
   ],
   "outputs": [
    {
     "data": {
      "text/plain": [
       "TensorShape([60000, 28, 28, 1])"
      ]
     },
     "execution_count": 67,
     "metadata": {},
     "output_type": "execute_result"
    }
   ],
   "execution_count": 67
  },
  {
   "cell_type": "code",
   "id": "932346b8-8227-448e-aa93-8912ca971962",
   "metadata": {
    "ExecuteTime": {
     "end_time": "2024-12-29T19:52:49.266921Z",
     "start_time": "2024-12-29T19:52:49.249555Z"
    }
   },
   "source": [
    "lenet_5_model = keras.models.Sequential([\n",
    "    keras.layers.Conv2D(6, kernel_size=5, strides=1,  activation='tanh', input_shape=train_x[0].shape, padding='same'), #C1\n",
    "    keras.layers.AveragePooling2D(pool_size=(2,2)), #S2\n",
    "    keras.layers.Conv2D(16, kernel_size=5, strides=1, activation='tanh', padding='valid'), #C3\n",
    "    keras.layers.AveragePooling2D(pool_size=(2,2)), #S4\n",
    "    keras.layers.Flatten(), #Flatten\n",
    "    keras.layers.Dense(120, activation='tanh'), #C5\n",
    "    keras.layers.Dense(84, activation='tanh'), #F6\n",
    "    keras.layers.Dense(10, activation='softmax') #Output layer\n",
    "])"
   ],
   "outputs": [],
   "execution_count": 68
  },
  {
   "cell_type": "code",
   "id": "0f9c7fb0-964d-4279-8347-1533097d7c66",
   "metadata": {
    "ExecuteTime": {
     "end_time": "2024-12-29T19:52:49.271511Z",
     "start_time": "2024-12-29T19:52:49.267716Z"
    }
   },
   "source": [
    "lenet_5_model.compile(optimizer='adam',loss=keras.losses.sparse_categorical_crossentropy, metrics=['accuracy'])"
   ],
   "outputs": [],
   "execution_count": 69
  },
  {
   "cell_type": "code",
   "id": "c1dadc66-075f-4398-9849-4dc87647163f",
   "metadata": {
    "ExecuteTime": {
     "end_time": "2024-12-29T19:53:25.950955Z",
     "start_time": "2024-12-29T19:52:49.272300Z"
    }
   },
   "source": [
    "lenet_5_model.fit(train_x, train_y, epochs=5, validation_data=(val_x, val_y))"
   ],
   "outputs": [
    {
     "name": "stdout",
     "output_type": "stream",
     "text": [
      "Epoch 1/5\n",
      "\u001B[1m1875/1875\u001B[0m \u001B[32m━━━━━━━━━━━━━━━━━━━━\u001B[0m\u001B[37m\u001B[0m \u001B[1m8s\u001B[0m 4ms/step - accuracy: 0.8768 - loss: 0.4146 - val_accuracy: 0.9744 - val_loss: 0.0850\n",
      "Epoch 2/5\n",
      "\u001B[1m1875/1875\u001B[0m \u001B[32m━━━━━━━━━━━━━━━━━━━━\u001B[0m\u001B[37m\u001B[0m \u001B[1m7s\u001B[0m 4ms/step - accuracy: 0.9690 - loss: 0.0992 - val_accuracy: 0.9812 - val_loss: 0.0635\n",
      "Epoch 3/5\n",
      "\u001B[1m1875/1875\u001B[0m \u001B[32m━━━━━━━━━━━━━━━━━━━━\u001B[0m\u001B[37m\u001B[0m \u001B[1m7s\u001B[0m 4ms/step - accuracy: 0.9814 - loss: 0.0609 - val_accuracy: 0.9888 - val_loss: 0.0384\n",
      "Epoch 4/5\n",
      "\u001B[1m1875/1875\u001B[0m \u001B[32m━━━━━━━━━━━━━━━━━━━━\u001B[0m\u001B[37m\u001B[0m \u001B[1m7s\u001B[0m 4ms/step - accuracy: 0.9860 - loss: 0.0458 - val_accuracy: 0.9902 - val_loss: 0.0302\n",
      "Epoch 5/5\n",
      "\u001B[1m1875/1875\u001B[0m \u001B[32m━━━━━━━━━━━━━━━━━━━━\u001B[0m\u001B[37m\u001B[0m \u001B[1m7s\u001B[0m 4ms/step - accuracy: 0.9889 - loss: 0.0361 - val_accuracy: 0.9902 - val_loss: 0.0301\n"
     ]
    },
    {
     "data": {
      "text/plain": [
       "<keras.src.callbacks.history.History at 0x311703070>"
      ]
     },
     "execution_count": 70,
     "metadata": {},
     "output_type": "execute_result"
    }
   ],
   "execution_count": 70
  },
  {
   "cell_type": "code",
   "id": "b9886896-43dc-4831-a595-7f040928b87f",
   "metadata": {
    "ExecuteTime": {
     "end_time": "2024-12-29T19:53:26.817851Z",
     "start_time": "2024-12-29T19:53:25.953366Z"
    }
   },
   "source": [
    "lenet_5_model.evaluate(test_x, test_y)"
   ],
   "outputs": [
    {
     "name": "stdout",
     "output_type": "stream",
     "text": [
      "\u001B[1m313/313\u001B[0m \u001B[32m━━━━━━━━━━━━━━━━━━━━\u001B[0m\u001B[37m\u001B[0m \u001B[1m1s\u001B[0m 2ms/step - accuracy: 0.9775 - loss: 0.0644\n"
     ]
    },
    {
     "data": {
      "text/plain": [
       "[0.05489840731024742, 0.9812999963760376]"
      ]
     },
     "execution_count": 71,
     "metadata": {},
     "output_type": "execute_result"
    }
   ],
   "execution_count": 71
  },
  {
   "cell_type": "code",
   "id": "e6e8ca62-f863-4e73-acac-25cd7c8d91f9",
   "metadata": {
    "ExecuteTime": {
     "end_time": "2024-12-29T19:53:26.911986Z",
     "start_time": "2024-12-29T19:53:26.818909Z"
    }
   },
   "source": [
    "for i in range(3):  \n",
    "    pyplot.subplot(330 + 1 + i)\n",
    "    pyplot.imshow(train_x[i], cmap=pyplot.get_cmap('gray'))\n",
    "    pyplot.show()"
   ],
   "outputs": [
    {
     "data": {
      "text/plain": [
       "<Figure size 640x480 with 1 Axes>"
      ],
      "image/png": "[encoded data removed]"
     },
     "metadata": {},
     "output_type": "display_data"
    },
    {
     "data": {
      "text/plain": [
       "<Figure size 640x480 with 1 Axes>"
      ],
      "image/png": "[encoded data removed]"
     },
     "metadata": {},
     "output_type": "display_data"
    },
    {
     "data": {
      "text/plain": [
       "<Figure size 640x480 with 1 Axes>"
      ],
      "image/png": "[encoded data removed]"
     },
     "metadata": {},
     "output_type": "display_data"
    }
   ],
   "execution_count": 72
  },
  {
   "cell_type": "code",
   "id": "329cc15c-9b02-462d-b4e3-5b9d4c765bd8",
   "metadata": {
    "ExecuteTime": {
     "end_time": "2024-12-29T19:53:26.938094Z",
     "start_time": "2024-12-29T19:53:26.913049Z"
    }
   },
   "source": [
    "import os\n",
    "lenet_5_model.save('/Users/jaheergoulam/CLionProjects/CNN-Implementation-LeNet-5-on-GPU/lenet_5_model.keras')\n",
    "print(os.listdir('/Users/jaheergoulam/CLionProjects/CNN-Implementation-LeNet-5-on-GPU'))"
   ],
   "outputs": [
    {
     "name": "stdout",
     "output_type": "stream",
     "text": [
      "['keywords.cu', 'my.h5', 'GPU_CPU_code3.cu', 'fashionmnist_model.json', '.DS_Store', 'FashionMNIST.weights.h5', 'devicequery.cu', 'GPU_CPU_code.cu', 'hello.cu', 'lenet_5_model.keras', 'part1.cu', 'train-images.idx3-ubyte', 'vector_add_2.cu', 'grid_kernel.cu', 'vector_add_1.cu', 'weights_txt_output', 'LeNet5.ipynb', 'vector_add_0.cu', 'part2.cu', 'GPU_CPU_code1.cu', 'vector_add_N_P.cu', '.git', 'printMNIST.cu', '.idea']\n"
     ]
    }
   ],
   "execution_count": 73
  },
  {
   "cell_type": "code",
   "id": "d883f56b-b134-4d81-aedb-1a0213cf2e5a",
   "metadata": {
    "ExecuteTime": {
     "end_time": "2024-12-29T19:53:26.956182Z",
     "start_time": "2024-12-29T19:53:26.943244Z"
    }
   },
   "source": "lenet_5_model.save(\"/Users/jaheergoulam/CLionProjects/CNN-Implementation-LeNet-5-on-GPU/my.h5\")",
   "outputs": [
    {
     "name": "stderr",
     "output_type": "stream",
     "text": [
      "WARNING:absl:You are saving your model as an HDF5 file via `model.save()` or `keras.saving.save_model(model)`. This file format is considered legacy. We recommend using instead the native Keras format, e.g. `model.save('my_model.keras')` or `keras.saving.save_model(model, 'my_model.keras')`. \n"
     ]
    }
   ],
   "execution_count": 74
  },
  {
   "cell_type": "code",
   "id": "e4039b16-8b65-4686-8e77-d8933555c2b1",
   "metadata": {
    "ExecuteTime": {
     "end_time": "2024-12-29T19:53:26.968524Z",
     "start_time": "2024-12-29T19:53:26.956816Z"
    }
   },
   "source": [
    "lenet_5_model.summary()"
   ],
   "outputs": [
    {
     "data": {
      "text/plain": [
       "\u001B[1mModel: \"sequential_2\"\u001B[0m\n"
      ],
      "text/html": [
       "<pre style=\"white-space:pre;overflow-x:auto;line-height:normal;font-family:Menlo,'DejaVu Sans Mono',consolas,'Courier New',monospace\"><span style=\"font-weight: bold\">Model: \"sequential_2\"</span>\n",
       "</pre>\n"
      ]
     },
     "metadata": {},
     "output_type": "display_data"
    },
    {
     "data": {
      "text/plain": [
       "┏━━━━━━━━━━━━━━━━━━━━━━━━━━━━━━━━━┳━━━━━━━━━━━━━━━━━━━━━━━━┳━━━━━━━━━━━━━━━┓\n",
       "┃\u001B[1m \u001B[0m\u001B[1mLayer (type)                   \u001B[0m\u001B[1m \u001B[0m┃\u001B[1m \u001B[0m\u001B[1mOutput Shape          \u001B[0m\u001B[1m \u001B[0m┃\u001B[1m \u001B[0m\u001B[1m      Param #\u001B[0m\u001B[1m \u001B[0m┃\n",
       "┡━━━━━━━━━━━━━━━━━━━━━━━━━━━━━━━━━╇━━━━━━━━━━━━━━━━━━━━━━━━╇━━━━━━━━━━━━━━━┩\n",
       "│ conv2d_4 (\u001B[38;5;33mConv2D\u001B[0m)               │ (\u001B[38;5;45mNone\u001B[0m, \u001B[38;5;34m28\u001B[0m, \u001B[38;5;34m28\u001B[0m, \u001B[38;5;34m6\u001B[0m)      │           \u001B[38;5;34m156\u001B[0m │\n",
       "├─────────────────────────────────┼────────────────────────┼───────────────┤\n",
       "│ average_pooling2d_4             │ (\u001B[38;5;45mNone\u001B[0m, \u001B[38;5;34m14\u001B[0m, \u001B[38;5;34m14\u001B[0m, \u001B[38;5;34m6\u001B[0m)      │             \u001B[38;5;34m0\u001B[0m │\n",
       "│ (\u001B[38;5;33mAveragePooling2D\u001B[0m)              │                        │               │\n",
       "├─────────────────────────────────┼────────────────────────┼───────────────┤\n",
       "│ conv2d_5 (\u001B[38;5;33mConv2D\u001B[0m)               │ (\u001B[38;5;45mNone\u001B[0m, \u001B[38;5;34m10\u001B[0m, \u001B[38;5;34m10\u001B[0m, \u001B[38;5;34m16\u001B[0m)     │         \u001B[38;5;34m2,416\u001B[0m │\n",
       "├─────────────────────────────────┼────────────────────────┼───────────────┤\n",
       "│ average_pooling2d_5             │ (\u001B[38;5;45mNone\u001B[0m, \u001B[38;5;34m5\u001B[0m, \u001B[38;5;34m5\u001B[0m, \u001B[38;5;34m16\u001B[0m)       │             \u001B[38;5;34m0\u001B[0m │\n",
       "│ (\u001B[38;5;33mAveragePooling2D\u001B[0m)              │                        │               │\n",
       "├─────────────────────────────────┼────────────────────────┼───────────────┤\n",
       "│ flatten_2 (\u001B[38;5;33mFlatten\u001B[0m)             │ (\u001B[38;5;45mNone\u001B[0m, \u001B[38;5;34m400\u001B[0m)            │             \u001B[38;5;34m0\u001B[0m │\n",
       "├─────────────────────────────────┼────────────────────────┼───────────────┤\n",
       "│ dense_6 (\u001B[38;5;33mDense\u001B[0m)                 │ (\u001B[38;5;45mNone\u001B[0m, \u001B[38;5;34m120\u001B[0m)            │        \u001B[38;5;34m48,120\u001B[0m │\n",
       "├─────────────────────────────────┼────────────────────────┼───────────────┤\n",
       "│ dense_7 (\u001B[38;5;33mDense\u001B[0m)                 │ (\u001B[38;5;45mNone\u001B[0m, \u001B[38;5;34m84\u001B[0m)             │        \u001B[38;5;34m10,164\u001B[0m │\n",
       "├─────────────────────────────────┼────────────────────────┼───────────────┤\n",
       "│ dense_8 (\u001B[38;5;33mDense\u001B[0m)                 │ (\u001B[38;5;45mNone\u001B[0m, \u001B[38;5;34m10\u001B[0m)             │           \u001B[38;5;34m850\u001B[0m │\n",
       "└─────────────────────────────────┴────────────────────────┴───────────────┘\n"
      ],
      "text/html": [
       "<pre style=\"white-space:pre;overflow-x:auto;line-height:normal;font-family:Menlo,'DejaVu Sans Mono',consolas,'Courier New',monospace\">┏━━━━━━━━━━━━━━━━━━━━━━━━━━━━━━━━━┳━━━━━━━━━━━━━━━━━━━━━━━━┳━━━━━━━━━━━━━━━┓\n",
       "┃<span style=\"font-weight: bold\"> Layer (type)                    </span>┃<span style=\"font-weight: bold\"> Output Shape           </span>┃<span style=\"font-weight: bold\">       Param # </span>┃\n",
       "┡━━━━━━━━━━━━━━━━━━━━━━━━━━━━━━━━━╇━━━━━━━━━━━━━━━━━━━━━━━━╇━━━━━━━━━━━━━━━┩\n",
       "│ conv2d_4 (<span style=\"color: #0087ff; text-decoration-color: #0087ff\">Conv2D</span>)               │ (<span style=\"color: #00d7ff; text-decoration-color: #00d7ff\">None</span>, <span style=\"color: #00af00; text-decoration-color: #00af00\">28</span>, <span style=\"color: #00af00; text-decoration-color: #00af00\">28</span>, <span style=\"color: #00af00; text-decoration-color: #00af00\">6</span>)      │           <span style=\"color: #00af00; text-decoration-color: #00af00\">156</span> │\n",
       "├─────────────────────────────────┼────────────────────────┼───────────────┤\n",
       "│ average_pooling2d_4             │ (<span style=\"color: #00d7ff; text-decoration-color: #00d7ff\">None</span>, <span style=\"color: #00af00; text-decoration-color: #00af00\">14</span>, <span style=\"color: #00af00; text-decoration-color: #00af00\">14</span>, <span style=\"color: #00af00; text-decoration-color: #00af00\">6</span>)      │             <span style=\"color: #00af00; text-decoration-color: #00af00\">0</span> │\n",
       "│ (<span style=\"color: #0087ff; text-decoration-color: #0087ff\">AveragePooling2D</span>)              │                        │               │\n",
       "├─────────────────────────────────┼────────────────────────┼───────────────┤\n",
       "│ conv2d_5 (<span style=\"color: #0087ff; text-decoration-color: #0087ff\">Conv2D</span>)               │ (<span style=\"color: #00d7ff; text-decoration-color: #00d7ff\">None</span>, <span style=\"color: #00af00; text-decoration-color: #00af00\">10</span>, <span style=\"color: #00af00; text-decoration-color: #00af00\">10</span>, <span style=\"color: #00af00; text-decoration-color: #00af00\">16</span>)     │         <span style=\"color: #00af00; text-decoration-color: #00af00\">2,416</span> │\n",
       "├─────────────────────────────────┼────────────────────────┼───────────────┤\n",
       "│ average_pooling2d_5             │ (<span style=\"color: #00d7ff; text-decoration-color: #00d7ff\">None</span>, <span style=\"color: #00af00; text-decoration-color: #00af00\">5</span>, <span style=\"color: #00af00; text-decoration-color: #00af00\">5</span>, <span style=\"color: #00af00; text-decoration-color: #00af00\">16</span>)       │             <span style=\"color: #00af00; text-decoration-color: #00af00\">0</span> │\n",
       "│ (<span style=\"color: #0087ff; text-decoration-color: #0087ff\">AveragePooling2D</span>)              │                        │               │\n",
       "├─────────────────────────────────┼────────────────────────┼───────────────┤\n",
       "│ flatten_2 (<span style=\"color: #0087ff; text-decoration-color: #0087ff\">Flatten</span>)             │ (<span style=\"color: #00d7ff; text-decoration-color: #00d7ff\">None</span>, <span style=\"color: #00af00; text-decoration-color: #00af00\">400</span>)            │             <span style=\"color: #00af00; text-decoration-color: #00af00\">0</span> │\n",
       "├─────────────────────────────────┼────────────────────────┼───────────────┤\n",
       "│ dense_6 (<span style=\"color: #0087ff; text-decoration-color: #0087ff\">Dense</span>)                 │ (<span style=\"color: #00d7ff; text-decoration-color: #00d7ff\">None</span>, <span style=\"color: #00af00; text-decoration-color: #00af00\">120</span>)            │        <span style=\"color: #00af00; text-decoration-color: #00af00\">48,120</span> │\n",
       "├─────────────────────────────────┼────────────────────────┼───────────────┤\n",
       "│ dense_7 (<span style=\"color: #0087ff; text-decoration-color: #0087ff\">Dense</span>)                 │ (<span style=\"color: #00d7ff; text-decoration-color: #00d7ff\">None</span>, <span style=\"color: #00af00; text-decoration-color: #00af00\">84</span>)             │        <span style=\"color: #00af00; text-decoration-color: #00af00\">10,164</span> │\n",
       "├─────────────────────────────────┼────────────────────────┼───────────────┤\n",
       "│ dense_8 (<span style=\"color: #0087ff; text-decoration-color: #0087ff\">Dense</span>)                 │ (<span style=\"color: #00d7ff; text-decoration-color: #00d7ff\">None</span>, <span style=\"color: #00af00; text-decoration-color: #00af00\">10</span>)             │           <span style=\"color: #00af00; text-decoration-color: #00af00\">850</span> │\n",
       "└─────────────────────────────────┴────────────────────────┴───────────────┘\n",
       "</pre>\n"
      ]
     },
     "metadata": {},
     "output_type": "display_data"
    },
    {
     "data": {
      "text/plain": [
       "\u001B[1m Total params: \u001B[0m\u001B[38;5;34m185,120\u001B[0m (723.13 KB)\n"
      ],
      "text/html": [
       "<pre style=\"white-space:pre;overflow-x:auto;line-height:normal;font-family:Menlo,'DejaVu Sans Mono',consolas,'Courier New',monospace\"><span style=\"font-weight: bold\"> Total params: </span><span style=\"color: #00af00; text-decoration-color: #00af00\">185,120</span> (723.13 KB)\n",
       "</pre>\n"
      ]
     },
     "metadata": {},
     "output_type": "display_data"
    },
    {
     "data": {
      "text/plain": [
       "\u001B[1m Trainable params: \u001B[0m\u001B[38;5;34m61,706\u001B[0m (241.04 KB)\n"
      ],
      "text/html": [
       "<pre style=\"white-space:pre;overflow-x:auto;line-height:normal;font-family:Menlo,'DejaVu Sans Mono',consolas,'Courier New',monospace\"><span style=\"font-weight: bold\"> Trainable params: </span><span style=\"color: #00af00; text-decoration-color: #00af00\">61,706</span> (241.04 KB)\n",
       "</pre>\n"
      ]
     },
     "metadata": {},
     "output_type": "display_data"
    },
    {
     "data": {
      "text/plain": [
       "\u001B[1m Non-trainable params: \u001B[0m\u001B[38;5;34m0\u001B[0m (0.00 B)\n"
      ],
      "text/html": [
       "<pre style=\"white-space:pre;overflow-x:auto;line-height:normal;font-family:Menlo,'DejaVu Sans Mono',consolas,'Courier New',monospace\"><span style=\"font-weight: bold\"> Non-trainable params: </span><span style=\"color: #00af00; text-decoration-color: #00af00\">0</span> (0.00 B)\n",
       "</pre>\n"
      ]
     },
     "metadata": {},
     "output_type": "display_data"
    },
    {
     "data": {
      "text/plain": [
       "\u001B[1m Optimizer params: \u001B[0m\u001B[38;5;34m123,414\u001B[0m (482.09 KB)\n"
      ],
      "text/html": [
       "<pre style=\"white-space:pre;overflow-x:auto;line-height:normal;font-family:Menlo,'DejaVu Sans Mono',consolas,'Courier New',monospace\"><span style=\"font-weight: bold\"> Optimizer params: </span><span style=\"color: #00af00; text-decoration-color: #00af00\">123,414</span> (482.09 KB)\n",
       "</pre>\n"
      ]
     },
     "metadata": {},
     "output_type": "display_data"
    }
   ],
   "execution_count": 75
  },
  {
   "cell_type": "code",
   "id": "24d1a878-c7a2-4688-9dca-35ab8c5edd2c",
   "metadata": {
    "ExecuteTime": {
     "end_time": "2024-12-29T19:53:26.973340Z",
     "start_time": "2024-12-29T19:53:26.969519Z"
    }
   },
   "source": [
    "json_model = lenet_5_model.to_json()"
   ],
   "outputs": [],
   "execution_count": 76
  },
  {
   "cell_type": "code",
   "id": "c3a3b789-e537-4677-931e-6688b2786be7",
   "metadata": {
    "ExecuteTime": {
     "end_time": "2024-12-29T19:53:26.976929Z",
     "start_time": "2024-12-29T19:53:26.974327Z"
    }
   },
   "source": [
    "with open('/Users/jaheergoulam/CLionProjects/CNN-Implementation-LeNet-5-on-GPU/fashionmnist_model.json', 'w') as json_file:\n",
    "    json_file.write(json_model)"
   ],
   "outputs": [],
   "execution_count": 77
  },
  {
   "cell_type": "code",
   "id": "14bd5eec-4991-4eed-ac6e-4d6d126a167d",
   "metadata": {
    "ExecuteTime": {
     "end_time": "2024-12-29T19:53:26.991997Z",
     "start_time": "2024-12-29T19:53:26.977705Z"
    }
   },
   "source": "lenet_5_model.save_weights('/Users/jaheergoulam/CLionProjects/CNN-Implementation-LeNet-5-on-GPU/FashionMNIST.weights.h5')",
   "outputs": [],
   "execution_count": 78
  },
  {
   "cell_type": "code",
   "id": "929aed57-808a-4df6-a9f7-ce9eec9d4ba1",
   "metadata": {
    "ExecuteTime": {
     "end_time": "2024-12-29T19:53:26.998826Z",
     "start_time": "2024-12-29T19:53:26.993637Z"
    }
   },
   "source": "lenet_5_model.layers[0].get_weights()[0]",
   "outputs": [
    {
     "data": {
      "text/plain": [
       "array([[[[-1.76575094e-01, -1.15967222e-01, -8.38855747e-03,\n",
       "           3.62583637e-01, -1.47033331e-03,  3.13598126e-01]],\n",
       "\n",
       "        [[-1.25123277e-01, -3.59386988e-02,  3.31600159e-02,\n",
       "           1.64143205e-01, -2.73069032e-02,  2.89176166e-01]],\n",
       "\n",
       "        [[ 3.25984836e-01, -3.47942948e-01,  1.11996243e-03,\n",
       "           2.10216030e-01,  2.03881785e-01, -1.80312395e-02]],\n",
       "\n",
       "        [[ 5.49711049e-01, -1.42444909e-01, -5.87248914e-02,\n",
       "           3.46905798e-01,  3.58579367e-01,  1.38296381e-01]],\n",
       "\n",
       "        [[ 5.49404562e-01, -4.28216130e-01, -2.95643330e-01,\n",
       "           3.66237611e-01,  2.31390730e-01, -1.62973702e-01]]],\n",
       "\n",
       "\n",
       "       [[[ 2.50727702e-02, -2.41220072e-02,  1.39677227e-02,\n",
       "          -1.76678896e-01, -1.85924061e-02,  4.13563550e-02]],\n",
       "\n",
       "        [[ 6.98569641e-02, -2.33064041e-01, -4.87066358e-02,\n",
       "          -1.55854017e-01, -5.20622618e-02,  6.51755603e-04]],\n",
       "\n",
       "        [[ 3.60093385e-01, -2.96084106e-01, -2.48252749e-01,\n",
       "           2.05862727e-02, -1.12802663e-03, -7.20615536e-02]],\n",
       "\n",
       "        [[ 6.91045761e-01,  4.89677005e-02, -3.82007994e-02,\n",
       "          -6.35956377e-02,  1.74995407e-01, -3.36121142e-01]],\n",
       "\n",
       "        [[ 4.16827470e-01, -1.46900311e-01, -1.99929595e-01,\n",
       "          -5.62838688e-02, -2.03412417e-02, -2.32782871e-01]]],\n",
       "\n",
       "\n",
       "       [[[-2.08554551e-01,  1.26543060e-01,  2.14402854e-01,\n",
       "          -4.46286529e-01, -1.89813912e-01,  1.17904812e-01]],\n",
       "\n",
       "        [[ 1.34135798e-01,  3.23001519e-02, -1.09104395e-01,\n",
       "          -6.90554321e-01,  2.49715745e-01, -1.17991105e-01]],\n",
       "\n",
       "        [[ 3.74730766e-01, -2.78221983e-02,  2.21640706e-01,\n",
       "          -7.66911149e-01,  7.23381564e-02, -3.09206873e-01]],\n",
       "\n",
       "        [[ 8.56260061e-02,  1.87767401e-01,  4.41897184e-01,\n",
       "          -5.78523576e-01, -5.30720413e-01, -6.36430562e-01]],\n",
       "\n",
       "        [[-1.38153672e-01, -8.64787996e-02,  1.27455801e-01,\n",
       "          -4.57842261e-01, -5.57064354e-01, -2.91544259e-01]]],\n",
       "\n",
       "\n",
       "       [[[-2.46191666e-01,  3.32344949e-01,  9.86557454e-02,\n",
       "          -9.49060172e-02,  1.80881426e-01,  2.12069198e-01]],\n",
       "\n",
       "        [[-2.23663181e-01,  4.36561704e-01, -1.12951785e-01,\n",
       "          -4.54600155e-01,  2.01380759e-01, -1.38473213e-01]],\n",
       "\n",
       "        [[ 4.55735400e-02,  3.91399443e-01,  3.19187790e-01,\n",
       "          -3.96153688e-01, -1.20326586e-01, -6.24896049e-01]],\n",
       "\n",
       "        [[-1.97142184e-01,  3.31800163e-01,  5.37364900e-01,\n",
       "          -3.30467850e-01, -3.70264351e-01, -4.52330858e-01]],\n",
       "\n",
       "        [[-2.25688815e-01,  1.61087260e-01,  3.29324454e-01,\n",
       "          -1.59408618e-02, -5.49378276e-01, -1.91853717e-01]]],\n",
       "\n",
       "\n",
       "       [[[-4.28630300e-02,  1.72574356e-01, -3.14703196e-01,\n",
       "          -1.89975444e-02,  3.84029895e-01,  3.31689298e-01]],\n",
       "\n",
       "        [[-1.60462141e-01,  3.01660419e-01, -2.40250245e-01,\n",
       "           2.68237114e-01,  2.80184358e-01, -1.80858389e-01]],\n",
       "\n",
       "        [[-3.40906173e-01,  3.67559224e-01, -8.31764564e-02,\n",
       "           2.24374667e-01, -4.75430526e-02, -4.19058383e-01]],\n",
       "\n",
       "        [[-1.25208408e-01,  2.53769368e-01,  2.10575134e-01,\n",
       "           1.05061628e-01, -4.31133330e-01, -3.40524465e-01]],\n",
       "\n",
       "        [[-4.74484235e-01,  9.08373967e-02, -5.56452125e-02,\n",
       "           6.80260453e-03, -2.39635929e-01,  6.36714473e-02]]]],\n",
       "      dtype=float32)"
      ]
     },
     "execution_count": 79,
     "metadata": {},
     "output_type": "execute_result"
    }
   ],
   "execution_count": 79
  },
  {
   "metadata": {
    "ExecuteTime": {
     "end_time": "2024-12-29T19:53:27.150541Z",
     "start_time": "2024-12-29T19:53:27.000008Z"
    }
   },
   "cell_type": "code",
   "source": [
    "import h5py\n",
    "import numpy as np\n",
    "import os\n",
    "\n",
    "# Chemin vers le fichier contenant les poids\n",
    "weights_file = '/Users/jaheergoulam/CLionProjects/CNN-Implementation-LeNet-5-on-GPU/FashionMNIST.weights.h5'\n",
    "output_dir = '/Users/jaheergoulam/CLionProjects/CNN-Implementation-LeNet-5-on-GPU//weights_txt_output'\n",
    "\n",
    "# Créer un dossier de sortie\n",
    "os.makedirs(output_dir, exist_ok=True)\n",
    "\n",
    "# Fonction récursive pour parcourir tous les groupes et sous-groupes\n",
    "def process_group(group, path=\"\"):\n",
    "    for key in group.keys():\n",
    "        item = group[key]\n",
    "        current_path = f\"{path}/{key}\" if path else key\n",
    "\n",
    "        if isinstance(item, h5py.Group):\n",
    "            # Si c'est un groupe, continuer la récursion\n",
    "            print(f\"Found group: {current_path}\")\n",
    "            process_group(item, current_path)\n",
    "        elif isinstance(item, h5py.Dataset):\n",
    "            # Si c'est un dataset, vérifier s'il contient des données numériques\n",
    "            data = np.array(item)\n",
    "            if np.issubdtype(data.dtype, np.number):\n",
    "                # Sauvegarder les données numériques dans un fichier texte\n",
    "                file_path = os.path.join(output_dir, f\"{current_path.replace('/', '_')}.txt\")\n",
    "                np.savetxt(file_path, data.flatten(), fmt='%.6f')\n",
    "                print(f\"Saved dataset: {current_path} -> {file_path}\")\n",
    "            else:\n",
    "                print(f\"Skipped non-numeric dataset: {current_path}\")\n",
    "\n",
    "# Ouvrir le fichier HDF5 et traiter son contenu\n",
    "with h5py.File(weights_file, 'r') as f:\n",
    "    process_group(f)"
   ],
   "id": "4ad15d45a253c877",
   "outputs": [
    {
     "name": "stdout",
     "output_type": "stream",
     "text": [
      "Found group: layers\n",
      "Found group: layers/average_pooling2d\n",
      "Found group: layers/average_pooling2d/vars\n",
      "Found group: layers/average_pooling2d_1\n",
      "Found group: layers/average_pooling2d_1/vars\n",
      "Found group: layers/conv2d\n",
      "Found group: layers/conv2d/vars\n",
      "Saved dataset: layers/conv2d/vars/0 -> /Users/jaheergoulam/CLionProjects/CNN-Implementation-LeNet-5-on-GPU//weights_txt_output/layers_conv2d_vars_0.txt\n",
      "Saved dataset: layers/conv2d/vars/1 -> /Users/jaheergoulam/CLionProjects/CNN-Implementation-LeNet-5-on-GPU//weights_txt_output/layers_conv2d_vars_1.txt\n",
      "Found group: layers/conv2d_1\n",
      "Found group: layers/conv2d_1/vars\n",
      "Saved dataset: layers/conv2d_1/vars/0 -> /Users/jaheergoulam/CLionProjects/CNN-Implementation-LeNet-5-on-GPU//weights_txt_output/layers_conv2d_1_vars_0.txt\n",
      "Saved dataset: layers/conv2d_1/vars/1 -> /Users/jaheergoulam/CLionProjects/CNN-Implementation-LeNet-5-on-GPU//weights_txt_output/layers_conv2d_1_vars_1.txt\n",
      "Found group: layers/dense\n",
      "Found group: layers/dense/vars\n",
      "Saved dataset: layers/dense/vars/0 -> /Users/jaheergoulam/CLionProjects/CNN-Implementation-LeNet-5-on-GPU//weights_txt_output/layers_dense_vars_0.txt\n",
      "Saved dataset: layers/dense/vars/1 -> /Users/jaheergoulam/CLionProjects/CNN-Implementation-LeNet-5-on-GPU//weights_txt_output/layers_dense_vars_1.txt\n",
      "Found group: layers/dense_1\n",
      "Found group: layers/dense_1/vars\n",
      "Saved dataset: layers/dense_1/vars/0 -> /Users/jaheergoulam/CLionProjects/CNN-Implementation-LeNet-5-on-GPU//weights_txt_output/layers_dense_1_vars_0.txt\n",
      "Saved dataset: layers/dense_1/vars/1 -> /Users/jaheergoulam/CLionProjects/CNN-Implementation-LeNet-5-on-GPU//weights_txt_output/layers_dense_1_vars_1.txt\n",
      "Found group: layers/dense_2\n",
      "Found group: layers/dense_2/vars\n",
      "Saved dataset: layers/dense_2/vars/0 -> /Users/jaheergoulam/CLionProjects/CNN-Implementation-LeNet-5-on-GPU//weights_txt_output/layers_dense_2_vars_0.txt\n",
      "Saved dataset: layers/dense_2/vars/1 -> /Users/jaheergoulam/CLionProjects/CNN-Implementation-LeNet-5-on-GPU//weights_txt_output/layers_dense_2_vars_1.txt\n",
      "Found group: layers/flatten\n",
      "Found group: layers/flatten/vars\n",
      "Found group: optimizer\n",
      "Found group: optimizer/vars\n",
      "Saved dataset: optimizer/vars/0 -> /Users/jaheergoulam/CLionProjects/CNN-Implementation-LeNet-5-on-GPU//weights_txt_output/optimizer_vars_0.txt\n",
      "Saved dataset: optimizer/vars/1 -> /Users/jaheergoulam/CLionProjects/CNN-Implementation-LeNet-5-on-GPU//weights_txt_output/optimizer_vars_1.txt\n",
      "Saved dataset: optimizer/vars/10 -> /Users/jaheergoulam/CLionProjects/CNN-Implementation-LeNet-5-on-GPU//weights_txt_output/optimizer_vars_10.txt\n",
      "Saved dataset: optimizer/vars/11 -> /Users/jaheergoulam/CLionProjects/CNN-Implementation-LeNet-5-on-GPU//weights_txt_output/optimizer_vars_11.txt\n",
      "Saved dataset: optimizer/vars/12 -> /Users/jaheergoulam/CLionProjects/CNN-Implementation-LeNet-5-on-GPU//weights_txt_output/optimizer_vars_12.txt\n",
      "Saved dataset: optimizer/vars/13 -> /Users/jaheergoulam/CLionProjects/CNN-Implementation-LeNet-5-on-GPU//weights_txt_output/optimizer_vars_13.txt\n",
      "Saved dataset: optimizer/vars/14 -> /Users/jaheergoulam/CLionProjects/CNN-Implementation-LeNet-5-on-GPU//weights_txt_output/optimizer_vars_14.txt\n",
      "Saved dataset: optimizer/vars/15 -> /Users/jaheergoulam/CLionProjects/CNN-Implementation-LeNet-5-on-GPU//weights_txt_output/optimizer_vars_15.txt\n",
      "Saved dataset: optimizer/vars/16 -> /Users/jaheergoulam/CLionProjects/CNN-Implementation-LeNet-5-on-GPU//weights_txt_output/optimizer_vars_16.txt\n",
      "Saved dataset: optimizer/vars/17 -> /Users/jaheergoulam/CLionProjects/CNN-Implementation-LeNet-5-on-GPU//weights_txt_output/optimizer_vars_17.txt\n",
      "Saved dataset: optimizer/vars/18 -> /Users/jaheergoulam/CLionProjects/CNN-Implementation-LeNet-5-on-GPU//weights_txt_output/optimizer_vars_18.txt\n",
      "Saved dataset: optimizer/vars/19 -> /Users/jaheergoulam/CLionProjects/CNN-Implementation-LeNet-5-on-GPU//weights_txt_output/optimizer_vars_19.txt\n",
      "Saved dataset: optimizer/vars/2 -> /Users/jaheergoulam/CLionProjects/CNN-Implementation-LeNet-5-on-GPU//weights_txt_output/optimizer_vars_2.txt\n",
      "Saved dataset: optimizer/vars/20 -> /Users/jaheergoulam/CLionProjects/CNN-Implementation-LeNet-5-on-GPU//weights_txt_output/optimizer_vars_20.txt\n",
      "Saved dataset: optimizer/vars/21 -> /Users/jaheergoulam/CLionProjects/CNN-Implementation-LeNet-5-on-GPU//weights_txt_output/optimizer_vars_21.txt\n",
      "Saved dataset: optimizer/vars/3 -> /Users/jaheergoulam/CLionProjects/CNN-Implementation-LeNet-5-on-GPU//weights_txt_output/optimizer_vars_3.txt\n",
      "Saved dataset: optimizer/vars/4 -> /Users/jaheergoulam/CLionProjects/CNN-Implementation-LeNet-5-on-GPU//weights_txt_output/optimizer_vars_4.txt\n",
      "Saved dataset: optimizer/vars/5 -> /Users/jaheergoulam/CLionProjects/CNN-Implementation-LeNet-5-on-GPU//weights_txt_output/optimizer_vars_5.txt\n",
      "Saved dataset: optimizer/vars/6 -> /Users/jaheergoulam/CLionProjects/CNN-Implementation-LeNet-5-on-GPU//weights_txt_output/optimizer_vars_6.txt\n",
      "Saved dataset: optimizer/vars/7 -> /Users/jaheergoulam/CLionProjects/CNN-Implementation-LeNet-5-on-GPU//weights_txt_output/optimizer_vars_7.txt\n",
      "Saved dataset: optimizer/vars/8 -> /Users/jaheergoulam/CLionProjects/CNN-Implementation-LeNet-5-on-GPU//weights_txt_output/optimizer_vars_8.txt\n",
      "Saved dataset: optimizer/vars/9 -> /Users/jaheergoulam/CLionProjects/CNN-Implementation-LeNet-5-on-GPU//weights_txt_output/optimizer_vars_9.txt\n",
      "Found group: vars\n"
     ]
    }
   ],
   "execution_count": 80
  },
  {
   "metadata": {
    "ExecuteTime": {
     "end_time": "2024-12-30T01:49:46.111887Z",
     "start_time": "2024-12-30T01:49:46.043402Z"
    }
   },
   "cell_type": "code",
   "source": [
    "import struct\n",
    "import numpy as np\n",
    "import matplotlib.pyplot as plt\n",
    "\n",
    "# Chemin vers le fichier MNIST\n",
    "file_path = \"/Users/jaheergoulam/CLionProjects/CNN-Implementation-LeNet-5-on-GPU/train-images.idx3-ubyte\"\n",
    "\n",
    "def read_image(file_path, index):\n",
    "    # Lire l'en-tête du fichier\n",
    "    with open(file_path, 'rb') as f:\n",
    "        magic, num_images, rows, cols = struct.unpack(\">IIII\", f.read(16))\n",
    "        print(f\"Magic Number: {magic}, Number of Images: {num_images}, Rows: {rows}, Columns: {cols}\")\n",
    "\n",
    "        # Calculer l'offset pour l'image souhaitée\n",
    "        image_size = rows * cols\n",
    "        f.seek(16 + index * image_size)  # Sauter l'en-tête et les images précédentes\n",
    "\n",
    "        # Lire une image et la convertir en tableau numpy\n",
    "        image = np.fromfile(f, dtype=np.uint8, count=image_size).reshape((rows, cols))\n",
    "        return image\n",
    "\n",
    "# Lire et afficher l'image\n",
    "image_index = 35# Par exemple, lire l'image numéro 100\n",
    "image = read_image(file_path, image_index)\n",
    "\n",
    "# Normaliser l'image pour le modèle\n",
    "normalized_image = image / 255.0\n",
    "normalized_image = np.expand_dims(normalized_image, axis=0)  # Ajouter une dimension pour le batch\n",
    "normalized_image = np.expand_dims(normalized_image, axis=-1)  # Ajouter une dimension pour les canaux\n",
    "\n",
    "plt.imshow(image, cmap='gray')\n",
    "plt.title(f\"Image {image_index}\")\n",
    "plt.axis('off')\n",
    "plt.show()"
   ],
   "id": "b61bd1be4a47eabf",
   "outputs": [
    {
     "name": "stdout",
     "output_type": "stream",
     "text": [
      "Magic Number: 2051, Number of Images: 60000, Rows: 28, Columns: 28\n"
     ]
    },
    {
     "data": {
      "text/plain": [
       "<Figure size 640x480 with 1 Axes>"
      ],
      "image/png": "[encoded data removed]"
     },
     "metadata": {},
     "output_type": "display_data"
    }
   ],
   "execution_count": 94
  },
  {
   "metadata": {
    "ExecuteTime": {
     "end_time": "2024-12-30T01:49:56.630283Z",
     "start_time": "2024-12-30T01:49:56.214640Z"
    }
   },
   "cell_type": "code",
   "source": [
    "# Charger le modèle sauvegardé  \n",
    "model_path = '/Users/jaheergoulam/CLionProjects/CNN-Implementation-LeNet-5-on-GPU/lenet_5_model.keras'\n",
    "lenet_5_model = keras.models.load_model(model_path)\n",
    "\n",
    "# Faire une prédiction sur l'image\n",
    "predictions = lenet_5_model.predict(normalized_image)\n",
    "predicted_class = np.argmax(predictions)\n",
    "\n",
    "# Afficher les probabilités et la classe prédite\n",
    "print(\"Probabilités :\", predictions.flatten())\n",
    "print(\"Classe prédite :\", predicted_class)    "
   ],
   "id": "a803ca6d2a8f30c9",
   "outputs": [
    {
     "name": "stdout",
     "output_type": "stream",
     "text": [
      "WARNING:tensorflow:5 out of the last 5 calls to <function TensorFlowTrainer.make_predict_function.<locals>.one_step_on_data_distributed at 0x312934af0> triggered tf.function retracing. Tracing is expensive and the excessive number of tracings could be due to (1) creating @tf.function repeatedly in a loop, (2) passing tensors with different shapes, (3) passing Python objects instead of tensors. For (1), please define your @tf.function outside of the loop. For (2), @tf.function has reduce_retracing=True option that can avoid unnecessary retracing. For (3), please refer to https://www.tensorflow.org/guide/function#controlling_retracing and https://www.tensorflow.org/api_docs/python/tf/function for  more details.\n"
     ]
    },
    {
     "name": "stderr",
     "output_type": "stream",
     "text": [
      "WARNING:tensorflow:5 out of the last 5 calls to <function TensorFlowTrainer.make_predict_function.<locals>.one_step_on_data_distributed at 0x312934af0> triggered tf.function retracing. Tracing is expensive and the excessive number of tracings could be due to (1) creating @tf.function repeatedly in a loop, (2) passing tensors with different shapes, (3) passing Python objects instead of tensors. For (1), please define your @tf.function outside of the loop. For (2), @tf.function has reduce_retracing=True option that can avoid unnecessary retracing. For (3), please refer to https://www.tensorflow.org/guide/function#controlling_retracing and https://www.tensorflow.org/api_docs/python/tf/function for  more details.\n"
     ]
    },
    {
     "name": "stdout",
     "output_type": "stream",
     "text": [
      "\u001B[1m1/1\u001B[0m \u001B[32m━━━━━━━━━━━━━━━━━━━━\u001B[0m\u001B[37m\u001B[0m \u001B[1m0s\u001B[0m 112ms/step\n",
      "Probabilités : [6.7175712e-08 1.4454372e-06 1.8706540e-08 1.1231908e-04 6.5005167e-07\n",
      " 9.9982351e-01 2.1021783e-06 1.0176784e-07 7.3131723e-06 5.2535266e-05]\n",
      "Classe prédite : 5\n"
     ]
    }
   ],
   "execution_count": 95
  },
  {
   "metadata": {},
   "cell_type": "code",
   "outputs": [],
   "execution_count": null,
   "source": "",
   "id": "f8851cff150a9bef"
  }
 ],
 "metadata": {
  "kernelspec": {
   "display_name": "Python 3 (ipykernel)",
   "language": "python",
   "name": "python3"
  },
  "language_info": {
   "codemirror_mode": {
    "name": "ipython",
    "version": 3
   },
   "file_extension": ".py",
   "mimetype": "text/x-python",
   "name": "python",
   "nbconvert_exporter": "python",
   "pygments_lexer": "ipython3",
   "version": "3.7.11"
  }
 },
 "nbformat": 4,
 "nbformat_minor": 5
}
